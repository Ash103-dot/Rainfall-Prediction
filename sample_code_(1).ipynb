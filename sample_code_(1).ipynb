{
  "nbformat": 4,
  "nbformat_minor": 0,
  "metadata": {
    "colab": {
      "name": "sample_code (1).ipynb",
      "provenance": [],
      "collapsed_sections": [],
      "toc_visible": true
    },
    "kernelspec": {
      "display_name": "Python 3",
      "language": "python",
      "name": "python3"
    },
    "language_info": {
      "codemirror_mode": {
        "name": "ipython",
        "version": 3
      },
      "file_extension": ".py",
      "mimetype": "text/x-python",
      "name": "python",
      "nbconvert_exporter": "python",
      "pygments_lexer": "ipython3",
      "version": "3.7.3"
    }
  },
  "cells": [
    {
      "cell_type": "markdown",
      "metadata": {
        "id": "FeQ9zWirEF_c"
      },
      "source": [
        "# Instructions\n",
        "You can use this notebook for **Task 1**\n",
        "\n",
        "You can import the libraries that you need.\n",
        "For instance:\n",
        "```python\n",
        "from sklearn.metrics import mean_squared_error\n",
        "```\n",
        "\n",
        "Please load the datasets that will be provided:\n",
        "- Right-click and select upload from the left panel\n",
        "- Select the files (*Japan_cities_rainfall.csv*, *rainfall_to_predict.csv*)\n",
        "\n",
        "\n",
        "Below is the function to verify your final predictions based on the *rainfall_to_predict.csv* file.\n",
        "\n",
        "**Please run it before starting**"
      ]
    },
    {
      "cell_type": "markdown",
      "metadata": {
        "id": "g_BTfyYBDXhG"
      },
      "source": [
        "#### Function to verify your prediction score\n",
        "##### Root Mean Square Error\n",
        "\n",
        "In order to verify the accuracy of you model, use the _verify_predictions_ function with your predictions results\n",
        "```python\n",
        "verify_predictions(output_result)\n",
        "\n",
        "# returns {\"result\":RMSE_RESULT_VALUE,\"type\":\"rmse\"}\n",
        "```\n"
      ]
    },
    {
      "cell_type": "code",
      "metadata": {
        "id": "pZ4-ejvyDXhI"
      },
      "source": [
        "# Please do not modify\n",
        "import requests\n",
        "import json\n",
        "\n",
        "def verify_predictions(y_pred):\n",
        "    \n",
        "    url = \"https://q7wmplg8u6.execute-api.ap-northeast-1.amazonaws.com/dev\"\n",
        "    \n",
        "    payload = {\n",
        "        \"submission\": y_pred\n",
        "    }\n",
        "    response = requests.request(\"POST\", url,data=json.dumps(payload),headers = {'content-type': 'application/json'})\n",
        "    \n",
        "    return response.text"
      ],
      "execution_count": 47,
      "outputs": []
    },
    {
      "cell_type": "markdown",
      "metadata": {
        "id": "JefsNoAdDXhJ"
      },
      "source": [
        "#Start your task from below"
      ]
    },
    {
      "cell_type": "markdown",
      "metadata": {
        "id": "OF3fQMvpDXhB"
      },
      "source": [
        "# Code for the Rainfall prediction"
      ]
    },
    {
      "cell_type": "markdown",
      "metadata": {
        "id": "Iv-5teg8DXhM"
      },
      "source": [
        "\r\n",
        "\r\n",
        "---\r\n",
        "\r\n"
      ]
    },
    {
      "cell_type": "code",
      "metadata": {
        "id": "yWVaa549DXhN"
      },
      "source": [
        "# imports\n",
        "import numpy as np\n",
        "import pandas as pd"
      ],
      "execution_count": 48,
      "outputs": []
    },
    {
      "cell_type": "code",
      "metadata": {
        "id": "c-Ms3PklJduP"
      },
      "source": [
        "from google.colab import drive\r\n",
        "drive.mount('/content/drive')"
      ],
      "execution_count": null,
      "outputs": []
    },
    {
      "cell_type": "code",
      "metadata": {
        "id": "OTgJ4tjdDXhN"
      },
      "source": [
        "# loading the datasets\n",
        "df = pd.read_csv('/content/drive/MyDrive/wni/Japan_cities_rainfall.csv')\n",
        "df_to_predict = pd.read_csv('/content/drive/MyDrive/wni/rainfall_to_predict.csv')"
      ],
      "execution_count": 50,
      "outputs": []
    },
    {
      "cell_type": "markdown",
      "metadata": {
        "id": "lqdGTYz3DXhO"
      },
      "source": [
        "##### Preview datasets"
      ]
    },
    {
      "cell_type": "code",
      "metadata": {
        "colab": {
          "base_uri": "https://localhost:8080/",
          "height": 195
        },
        "id": "87-bknLrDXhO",
        "outputId": "d336b2ec-1f6a-4557-d5e7-8efe7ec30cde"
      },
      "source": [
        "df.head()"
      ],
      "execution_count": 51,
      "outputs": [
        {
          "output_type": "execute_result",
          "data": {
            "text/html": [
              "<div>\n",
              "<style scoped>\n",
              "    .dataframe tbody tr th:only-of-type {\n",
              "        vertical-align: middle;\n",
              "    }\n",
              "\n",
              "    .dataframe tbody tr th {\n",
              "        vertical-align: top;\n",
              "    }\n",
              "\n",
              "    .dataframe thead th {\n",
              "        text-align: right;\n",
              "    }\n",
              "</style>\n",
              "<table border=\"1\" class=\"dataframe\">\n",
              "  <thead>\n",
              "    <tr style=\"text-align: right;\">\n",
              "      <th></th>\n",
              "      <th>date_time</th>\n",
              "      <th>place</th>\n",
              "      <th>longitude</th>\n",
              "      <th>latitude</th>\n",
              "      <th>rainfall</th>\n",
              "    </tr>\n",
              "  </thead>\n",
              "  <tbody>\n",
              "    <tr>\n",
              "      <th>0</th>\n",
              "      <td>20200918_080000</td>\n",
              "      <td>Naha</td>\n",
              "      <td>127.686667</td>\n",
              "      <td>26.206667</td>\n",
              "      <td>0.0</td>\n",
              "    </tr>\n",
              "    <tr>\n",
              "      <th>1</th>\n",
              "      <td>20200918_080000</td>\n",
              "      <td>Fukuoka</td>\n",
              "      <td>130.375000</td>\n",
              "      <td>33.581667</td>\n",
              "      <td>0.0</td>\n",
              "    </tr>\n",
              "    <tr>\n",
              "      <th>2</th>\n",
              "      <td>20200918_080000</td>\n",
              "      <td>Sendai</td>\n",
              "      <td>140.896667</td>\n",
              "      <td>38.261667</td>\n",
              "      <td>0.0</td>\n",
              "    </tr>\n",
              "    <tr>\n",
              "      <th>3</th>\n",
              "      <td>20200918_080000</td>\n",
              "      <td>Osaka</td>\n",
              "      <td>135.518333</td>\n",
              "      <td>34.681667</td>\n",
              "      <td>0.0</td>\n",
              "    </tr>\n",
              "    <tr>\n",
              "      <th>4</th>\n",
              "      <td>20200918_080000</td>\n",
              "      <td>Nigata</td>\n",
              "      <td>139.018333</td>\n",
              "      <td>37.893333</td>\n",
              "      <td>3.0</td>\n",
              "    </tr>\n",
              "  </tbody>\n",
              "</table>\n",
              "</div>"
            ],
            "text/plain": [
              "         date_time     place   longitude   latitude  rainfall\n",
              "0  20200918_080000      Naha  127.686667  26.206667       0.0\n",
              "1  20200918_080000   Fukuoka  130.375000  33.581667       0.0\n",
              "2  20200918_080000    Sendai  140.896667  38.261667       0.0\n",
              "3  20200918_080000     Osaka  135.518333  34.681667       0.0\n",
              "4  20200918_080000    Nigata  139.018333  37.893333       3.0"
            ]
          },
          "metadata": {
            "tags": []
          },
          "execution_count": 51
        }
      ]
    },
    {
      "cell_type": "code",
      "metadata": {
        "colab": {
          "base_uri": "https://localhost:8080/",
          "height": 195
        },
        "id": "xp98GV_aDXhQ",
        "outputId": "94683b52-0710-4237-f7a1-2f171c188b34"
      },
      "source": [
        "df.tail()"
      ],
      "execution_count": 52,
      "outputs": [
        {
          "output_type": "execute_result",
          "data": {
            "text/html": [
              "<div>\n",
              "<style scoped>\n",
              "    .dataframe tbody tr th:only-of-type {\n",
              "        vertical-align: middle;\n",
              "    }\n",
              "\n",
              "    .dataframe tbody tr th {\n",
              "        vertical-align: top;\n",
              "    }\n",
              "\n",
              "    .dataframe thead th {\n",
              "        text-align: right;\n",
              "    }\n",
              "</style>\n",
              "<table border=\"1\" class=\"dataframe\">\n",
              "  <thead>\n",
              "    <tr style=\"text-align: right;\">\n",
              "      <th></th>\n",
              "      <th>date_time</th>\n",
              "      <th>place</th>\n",
              "      <th>longitude</th>\n",
              "      <th>latitude</th>\n",
              "      <th>rainfall</th>\n",
              "    </tr>\n",
              "  </thead>\n",
              "  <tbody>\n",
              "    <tr>\n",
              "      <th>19971</th>\n",
              "      <td>20201127_090000</td>\n",
              "      <td>Sendai</td>\n",
              "      <td>140.896667</td>\n",
              "      <td>38.261667</td>\n",
              "      <td>0.0</td>\n",
              "    </tr>\n",
              "    <tr>\n",
              "      <th>19972</th>\n",
              "      <td>20201127_090000</td>\n",
              "      <td>Tokyo</td>\n",
              "      <td>139.750000</td>\n",
              "      <td>35.691667</td>\n",
              "      <td>0.0</td>\n",
              "    </tr>\n",
              "    <tr>\n",
              "      <th>19973</th>\n",
              "      <td>20201127_090000</td>\n",
              "      <td>Osaka</td>\n",
              "      <td>135.518333</td>\n",
              "      <td>34.681667</td>\n",
              "      <td>0.0</td>\n",
              "    </tr>\n",
              "    <tr>\n",
              "      <th>19974</th>\n",
              "      <td>20201127_090000</td>\n",
              "      <td>Fukuoka</td>\n",
              "      <td>130.375000</td>\n",
              "      <td>33.581667</td>\n",
              "      <td>0.0</td>\n",
              "    </tr>\n",
              "    <tr>\n",
              "      <th>19975</th>\n",
              "      <td>20201127_090000</td>\n",
              "      <td>Nigata</td>\n",
              "      <td>139.018333</td>\n",
              "      <td>37.893333</td>\n",
              "      <td>0.0</td>\n",
              "    </tr>\n",
              "  </tbody>\n",
              "</table>\n",
              "</div>"
            ],
            "text/plain": [
              "             date_time     place   longitude   latitude  rainfall\n",
              "19971  20201127_090000    Sendai  140.896667  38.261667       0.0\n",
              "19972  20201127_090000     Tokyo  139.750000  35.691667       0.0\n",
              "19973  20201127_090000     Osaka  135.518333  34.681667       0.0\n",
              "19974  20201127_090000   Fukuoka  130.375000  33.581667       0.0\n",
              "19975  20201127_090000    Nigata  139.018333  37.893333       0.0"
            ]
          },
          "metadata": {
            "tags": []
          },
          "execution_count": 52
        }
      ]
    },
    {
      "cell_type": "code",
      "metadata": {
        "colab": {
          "base_uri": "https://localhost:8080/"
        },
        "id": "udiJuG_kRQwd",
        "outputId": "5bf214cf-c872-43a8-b7e7-d184ba658109"
      },
      "source": [
        "df_to_predict.count()"
      ],
      "execution_count": 53,
      "outputs": [
        {
          "output_type": "execute_result",
          "data": {
            "text/plain": [
              "date_time    202\n",
              "place        202\n",
              "longitude    202\n",
              "latitude     202\n",
              "dtype: int64"
            ]
          },
          "metadata": {
            "tags": []
          },
          "execution_count": 53
        }
      ]
    },
    {
      "cell_type": "code",
      "metadata": {
        "colab": {
          "base_uri": "https://localhost:8080/"
        },
        "id": "GpaQO_qvHwWw",
        "outputId": "4dfa4d69-9044-44a6-9197-64f37f8da6de"
      },
      "source": [
        "df['place'].unique()"
      ],
      "execution_count": 54,
      "outputs": [
        {
          "output_type": "execute_result",
          "data": {
            "text/plain": [
              "array([' Naha', ' Fukuoka', ' Sendai', ' Osaka', ' Nigata', ' Tokyo'],\n",
              "      dtype=object)"
            ]
          },
          "metadata": {
            "tags": []
          },
          "execution_count": 54
        }
      ]
    },
    {
      "cell_type": "code",
      "metadata": {
        "id": "s4FLrvSvREmi"
      },
      "source": [
        "#a seperate column for easy analysis\r\n",
        "df_to_predict['rainfall']=np.nan"
      ],
      "execution_count": 55,
      "outputs": []
    },
    {
      "cell_type": "code",
      "metadata": {
        "colab": {
          "base_uri": "https://localhost:8080/",
          "height": 195
        },
        "id": "NRS9gbaJRtkL",
        "outputId": "cc04b9d1-1c8c-4421-c06e-7bdb63676525"
      },
      "source": [
        "df_to_predict.head()"
      ],
      "execution_count": 56,
      "outputs": [
        {
          "output_type": "execute_result",
          "data": {
            "text/html": [
              "<div>\n",
              "<style scoped>\n",
              "    .dataframe tbody tr th:only-of-type {\n",
              "        vertical-align: middle;\n",
              "    }\n",
              "\n",
              "    .dataframe tbody tr th {\n",
              "        vertical-align: top;\n",
              "    }\n",
              "\n",
              "    .dataframe thead th {\n",
              "        text-align: right;\n",
              "    }\n",
              "</style>\n",
              "<table border=\"1\" class=\"dataframe\">\n",
              "  <thead>\n",
              "    <tr style=\"text-align: right;\">\n",
              "      <th></th>\n",
              "      <th>date_time</th>\n",
              "      <th>place</th>\n",
              "      <th>longitude</th>\n",
              "      <th>latitude</th>\n",
              "      <th>rainfall</th>\n",
              "    </tr>\n",
              "  </thead>\n",
              "  <tbody>\n",
              "    <tr>\n",
              "      <th>0</th>\n",
              "      <td>20200919_013000</td>\n",
              "      <td>Naha</td>\n",
              "      <td>127.686667</td>\n",
              "      <td>26.206667</td>\n",
              "      <td>NaN</td>\n",
              "    </tr>\n",
              "    <tr>\n",
              "      <th>1</th>\n",
              "      <td>20200919_223000</td>\n",
              "      <td>Nigata</td>\n",
              "      <td>139.018333</td>\n",
              "      <td>37.893333</td>\n",
              "      <td>NaN</td>\n",
              "    </tr>\n",
              "    <tr>\n",
              "      <th>2</th>\n",
              "      <td>20200919_233000</td>\n",
              "      <td>Sendai</td>\n",
              "      <td>140.896667</td>\n",
              "      <td>38.261667</td>\n",
              "      <td>NaN</td>\n",
              "    </tr>\n",
              "    <tr>\n",
              "      <th>3</th>\n",
              "      <td>20200920_030000</td>\n",
              "      <td>Fukuoka</td>\n",
              "      <td>130.375000</td>\n",
              "      <td>33.581667</td>\n",
              "      <td>NaN</td>\n",
              "    </tr>\n",
              "    <tr>\n",
              "      <th>4</th>\n",
              "      <td>20200920_130000</td>\n",
              "      <td>Naha</td>\n",
              "      <td>127.686667</td>\n",
              "      <td>26.206667</td>\n",
              "      <td>NaN</td>\n",
              "    </tr>\n",
              "  </tbody>\n",
              "</table>\n",
              "</div>"
            ],
            "text/plain": [
              "         date_time     place   longitude   latitude  rainfall\n",
              "0  20200919_013000      Naha  127.686667  26.206667       NaN\n",
              "1  20200919_223000    Nigata  139.018333  37.893333       NaN\n",
              "2  20200919_233000    Sendai  140.896667  38.261667       NaN\n",
              "3  20200920_030000   Fukuoka  130.375000  33.581667       NaN\n",
              "4  20200920_130000      Naha  127.686667  26.206667       NaN"
            ]
          },
          "metadata": {
            "tags": []
          },
          "execution_count": 56
        }
      ]
    },
    {
      "cell_type": "code",
      "metadata": {
        "id": "keqDWuR9HwWx"
      },
      "source": [
        "#converted the given date time to a standard format\n",
        "def date_time(a):\n",
        "  return str(a[:4]+\"-\"+a[4:6]+\"-\"+a[6:8]+\" \"+a[9:11]+\":\"+a[11:13])"
      ],
      "execution_count": 57,
      "outputs": []
    },
    {
      "cell_type": "code",
      "metadata": {
        "id": "bV6FIC0rHwWx"
      },
      "source": [
        "#encoding cities with numbers\n",
        "city_mapping = {\" Naha\": 1, \" Fukuoka\": 2, \" Sendai\": 3, \" Osaka\": 4, \" Nigata\": 5, \" Tokyo\": 6}\n",
        "datasets=[df,df_to_predict]\n",
        "cols=['dt','city','rainfall']\n",
        "for data in datasets:\n",
        "  data['city']=data['place'].map(city_mapping)\n",
        "  data['dt']=data['date_time'].apply(date_time)\n",
        "  data.drop(['place','longitude','latitude','date_time'],axis=1,inplace=True)\n",
        "  data=data[cols]"
      ],
      "execution_count": 58,
      "outputs": []
    },
    {
      "cell_type": "code",
      "metadata": {
        "id": "5yjOBL5_HwWx"
      },
      "source": [
        "#merged the training and testing set\r\n",
        "frames=[df,df_to_predict]\r\n",
        "data=pd.concat(frames)"
      ],
      "execution_count": 59,
      "outputs": []
    },
    {
      "cell_type": "code",
      "metadata": {
        "id": "ORaWV4UVVnHw"
      },
      "source": [
        "#reindexing\r\n",
        "data = data.reindex(columns=['dt','city','rainfall'])"
      ],
      "execution_count": 60,
      "outputs": []
    },
    {
      "cell_type": "code",
      "metadata": {
        "id": "g_bFxrFmVzXl"
      },
      "source": [
        "#standard format to convert it to regular time series data\r\n",
        "data['dt'] =  pd.to_datetime(data['dt'], format='%Y-%m-%d %H:%M')"
      ],
      "execution_count": 61,
      "outputs": []
    },
    {
      "cell_type": "code",
      "metadata": {
        "id": "vTNhWWUMXMrW"
      },
      "source": [
        "data=data.sort_values(by='dt',ascending=True)"
      ],
      "execution_count": 62,
      "outputs": []
    },
    {
      "cell_type": "code",
      "metadata": {
        "colab": {
          "base_uri": "https://localhost:8080/",
          "height": 402
        },
        "id": "_-4dtYszc3fl",
        "outputId": "d2018a60-7e96-4056-9e41-82b4fb1c26a3"
      },
      "source": [
        "data"
      ],
      "execution_count": 63,
      "outputs": [
        {
          "output_type": "execute_result",
          "data": {
            "text/html": [
              "<div>\n",
              "<style scoped>\n",
              "    .dataframe tbody tr th:only-of-type {\n",
              "        vertical-align: middle;\n",
              "    }\n",
              "\n",
              "    .dataframe tbody tr th {\n",
              "        vertical-align: top;\n",
              "    }\n",
              "\n",
              "    .dataframe thead th {\n",
              "        text-align: right;\n",
              "    }\n",
              "</style>\n",
              "<table border=\"1\" class=\"dataframe\">\n",
              "  <thead>\n",
              "    <tr style=\"text-align: right;\">\n",
              "      <th></th>\n",
              "      <th>dt</th>\n",
              "      <th>city</th>\n",
              "      <th>rainfall</th>\n",
              "    </tr>\n",
              "  </thead>\n",
              "  <tbody>\n",
              "    <tr>\n",
              "      <th>0</th>\n",
              "      <td>2020-09-18 08:00:00</td>\n",
              "      <td>1</td>\n",
              "      <td>0.0</td>\n",
              "    </tr>\n",
              "    <tr>\n",
              "      <th>1</th>\n",
              "      <td>2020-09-18 08:00:00</td>\n",
              "      <td>2</td>\n",
              "      <td>0.0</td>\n",
              "    </tr>\n",
              "    <tr>\n",
              "      <th>2</th>\n",
              "      <td>2020-09-18 08:00:00</td>\n",
              "      <td>3</td>\n",
              "      <td>0.0</td>\n",
              "    </tr>\n",
              "    <tr>\n",
              "      <th>3</th>\n",
              "      <td>2020-09-18 08:00:00</td>\n",
              "      <td>4</td>\n",
              "      <td>0.0</td>\n",
              "    </tr>\n",
              "    <tr>\n",
              "      <th>4</th>\n",
              "      <td>2020-09-18 08:00:00</td>\n",
              "      <td>5</td>\n",
              "      <td>3.0</td>\n",
              "    </tr>\n",
              "    <tr>\n",
              "      <th>...</th>\n",
              "      <td>...</td>\n",
              "      <td>...</td>\n",
              "      <td>...</td>\n",
              "    </tr>\n",
              "    <tr>\n",
              "      <th>19972</th>\n",
              "      <td>2020-11-27 09:00:00</td>\n",
              "      <td>6</td>\n",
              "      <td>0.0</td>\n",
              "    </tr>\n",
              "    <tr>\n",
              "      <th>19973</th>\n",
              "      <td>2020-11-27 09:00:00</td>\n",
              "      <td>4</td>\n",
              "      <td>0.0</td>\n",
              "    </tr>\n",
              "    <tr>\n",
              "      <th>19974</th>\n",
              "      <td>2020-11-27 09:00:00</td>\n",
              "      <td>2</td>\n",
              "      <td>0.0</td>\n",
              "    </tr>\n",
              "    <tr>\n",
              "      <th>19975</th>\n",
              "      <td>2020-11-27 09:00:00</td>\n",
              "      <td>5</td>\n",
              "      <td>0.0</td>\n",
              "    </tr>\n",
              "    <tr>\n",
              "      <th>201</th>\n",
              "      <td>2020-11-27 09:00:00</td>\n",
              "      <td>1</td>\n",
              "      <td>NaN</td>\n",
              "    </tr>\n",
              "  </tbody>\n",
              "</table>\n",
              "<p>20178 rows × 3 columns</p>\n",
              "</div>"
            ],
            "text/plain": [
              "                       dt  city  rainfall\n",
              "0     2020-09-18 08:00:00     1       0.0\n",
              "1     2020-09-18 08:00:00     2       0.0\n",
              "2     2020-09-18 08:00:00     3       0.0\n",
              "3     2020-09-18 08:00:00     4       0.0\n",
              "4     2020-09-18 08:00:00     5       3.0\n",
              "...                   ...   ...       ...\n",
              "19972 2020-11-27 09:00:00     6       0.0\n",
              "19973 2020-11-27 09:00:00     4       0.0\n",
              "19974 2020-11-27 09:00:00     2       0.0\n",
              "19975 2020-11-27 09:00:00     5       0.0\n",
              "201   2020-11-27 09:00:00     1       NaN\n",
              "\n",
              "[20178 rows x 3 columns]"
            ]
          },
          "metadata": {
            "tags": []
          },
          "execution_count": 63
        }
      ]
    },
    {
      "cell_type": "code",
      "metadata": {
        "id": "2M9KrR9tVW3z"
      },
      "source": [
        "\r\n",
        "city_1=data[data['city']==1]"
      ],
      "execution_count": 64,
      "outputs": []
    },
    {
      "cell_type": "code",
      "metadata": {
        "colab": {
          "base_uri": "https://localhost:8080/",
          "height": 402
        },
        "id": "QvTVMh1bZgQU",
        "outputId": "d3c2ceee-0a94-4558-cd64-0449b3ce1ea4"
      },
      "source": [
        "city_1"
      ],
      "execution_count": 65,
      "outputs": [
        {
          "output_type": "execute_result",
          "data": {
            "text/html": [
              "<div>\n",
              "<style scoped>\n",
              "    .dataframe tbody tr th:only-of-type {\n",
              "        vertical-align: middle;\n",
              "    }\n",
              "\n",
              "    .dataframe tbody tr th {\n",
              "        vertical-align: top;\n",
              "    }\n",
              "\n",
              "    .dataframe thead th {\n",
              "        text-align: right;\n",
              "    }\n",
              "</style>\n",
              "<table border=\"1\" class=\"dataframe\">\n",
              "  <thead>\n",
              "    <tr style=\"text-align: right;\">\n",
              "      <th></th>\n",
              "      <th>dt</th>\n",
              "      <th>city</th>\n",
              "      <th>rainfall</th>\n",
              "    </tr>\n",
              "  </thead>\n",
              "  <tbody>\n",
              "    <tr>\n",
              "      <th>0</th>\n",
              "      <td>2020-09-18 08:00:00</td>\n",
              "      <td>1</td>\n",
              "      <td>0.0</td>\n",
              "    </tr>\n",
              "    <tr>\n",
              "      <th>7</th>\n",
              "      <td>2020-09-18 08:30:00</td>\n",
              "      <td>1</td>\n",
              "      <td>0.0</td>\n",
              "    </tr>\n",
              "    <tr>\n",
              "      <th>14</th>\n",
              "      <td>2020-09-18 09:00:00</td>\n",
              "      <td>1</td>\n",
              "      <td>0.0</td>\n",
              "    </tr>\n",
              "    <tr>\n",
              "      <th>23</th>\n",
              "      <td>2020-09-18 09:30:00</td>\n",
              "      <td>1</td>\n",
              "      <td>0.0</td>\n",
              "    </tr>\n",
              "    <tr>\n",
              "      <th>29</th>\n",
              "      <td>2020-09-18 10:00:00</td>\n",
              "      <td>1</td>\n",
              "      <td>0.0</td>\n",
              "    </tr>\n",
              "    <tr>\n",
              "      <th>...</th>\n",
              "      <td>...</td>\n",
              "      <td>...</td>\n",
              "      <td>...</td>\n",
              "    </tr>\n",
              "    <tr>\n",
              "      <th>19950</th>\n",
              "      <td>2020-11-27 07:00:00</td>\n",
              "      <td>1</td>\n",
              "      <td>0.0</td>\n",
              "    </tr>\n",
              "    <tr>\n",
              "      <th>19957</th>\n",
              "      <td>2020-11-27 07:30:00</td>\n",
              "      <td>1</td>\n",
              "      <td>0.0</td>\n",
              "    </tr>\n",
              "    <tr>\n",
              "      <th>19959</th>\n",
              "      <td>2020-11-27 08:00:00</td>\n",
              "      <td>1</td>\n",
              "      <td>0.0</td>\n",
              "    </tr>\n",
              "    <tr>\n",
              "      <th>19968</th>\n",
              "      <td>2020-11-27 08:30:00</td>\n",
              "      <td>1</td>\n",
              "      <td>0.0</td>\n",
              "    </tr>\n",
              "    <tr>\n",
              "      <th>201</th>\n",
              "      <td>2020-11-27 09:00:00</td>\n",
              "      <td>1</td>\n",
              "      <td>NaN</td>\n",
              "    </tr>\n",
              "  </tbody>\n",
              "</table>\n",
              "<p>3363 rows × 3 columns</p>\n",
              "</div>"
            ],
            "text/plain": [
              "                       dt  city  rainfall\n",
              "0     2020-09-18 08:00:00     1       0.0\n",
              "7     2020-09-18 08:30:00     1       0.0\n",
              "14    2020-09-18 09:00:00     1       0.0\n",
              "23    2020-09-18 09:30:00     1       0.0\n",
              "29    2020-09-18 10:00:00     1       0.0\n",
              "...                   ...   ...       ...\n",
              "19950 2020-11-27 07:00:00     1       0.0\n",
              "19957 2020-11-27 07:30:00     1       0.0\n",
              "19959 2020-11-27 08:00:00     1       0.0\n",
              "19968 2020-11-27 08:30:00     1       0.0\n",
              "201   2020-11-27 09:00:00     1       NaN\n",
              "\n",
              "[3363 rows x 3 columns]"
            ]
          },
          "metadata": {
            "tags": []
          },
          "execution_count": 65
        }
      ]
    },
    {
      "cell_type": "code",
      "metadata": {
        "id": "qU5-0lsua_KD"
      },
      "source": [
        "#replacing the NaN values with average of the previous 3 data using method of Rolling Mean\r\n",
        "city_1 = city_1.assign(RollingMean=city_1.rainfall.fillna(city_1.rainfall.rolling(3,min_periods=1,).mean()))"
      ],
      "execution_count": 66,
      "outputs": []
    },
    {
      "cell_type": "code",
      "metadata": {
        "colab": {
          "base_uri": "https://localhost:8080/",
          "height": 637
        },
        "id": "Ia9aWFupYIlz",
        "outputId": "18018dcd-2f85-4c9b-b968-e8b1c79bf128"
      },
      "source": [
        "city_1.plot(x='dt',figsize=(20, 10))"
      ],
      "execution_count": 67,
      "outputs": [
        {
          "output_type": "execute_result",
          "data": {
            "text/plain": [
              "<matplotlib.axes._subplots.AxesSubplot at 0x7fbef2dcb710>"
            ]
          },
          "metadata": {
            "tags": []
          },
          "execution_count": 67
        },
        {
          "output_type": "display_data",
          "data": {
            "image/png": "[encoded data removed]",
            "text/plain": [
              "<Figure size 1440x720 with 1 Axes>"
            ]
          },
          "metadata": {
            "tags": [],
            "needs_background": "light"
          }
        }
      ]
    },
    {
      "cell_type": "code",
      "metadata": {
        "id": "Ahhb2tTed8w_"
      },
      "source": [
        "place={}\r\n",
        "for i in range(1,7):\r\n",
        "  place[i]=data[data['city']==i]\r\n",
        "  place[i]=place[i].assign(RollingMean=place[i].rainfall.fillna(place[i].rainfall.rolling(3,min_periods=1,).mean()))"
      ],
      "execution_count": 68,
      "outputs": []
    },
    {
      "cell_type": "code",
      "metadata": {
        "id": "sx3ONVRacf1N"
      },
      "source": [
        "def predictions(a):\r\n",
        "  return place[a[1]][place[a[1]]['dt']==a[0]]['RollingMean'].values[0]\r\n"
      ],
      "execution_count": 69,
      "outputs": []
    },
    {
      "cell_type": "code",
      "metadata": {
        "id": "DXQYISgojHZc"
      },
      "source": [
        "df_to_predict['pred']=df_to_predict[['dt','city']].apply(predictions,axis=1)"
      ],
      "execution_count": 70,
      "outputs": []
    },
    {
      "cell_type": "code",
      "metadata": {
        "colab": {
          "base_uri": "https://localhost:8080/"
        },
        "id": "BYK8ETvlkeVq",
        "outputId": "78034e56-6622-44c7-d2b8-e2dcf6683094"
      },
      "source": [
        "predictions=df_to_predict['pred']\r\n",
        "predictions"
      ],
      "execution_count": 71,
      "outputs": [
        {
          "output_type": "execute_result",
          "data": {
            "text/plain": [
              "0      0.000000e+00\n",
              "1      0.000000e+00\n",
              "2      0.000000e+00\n",
              "3      0.000000e+00\n",
              "4      5.551115e-17\n",
              "           ...     \n",
              "197    0.000000e+00\n",
              "198    0.000000e+00\n",
              "199    2.775558e-16\n",
              "200    0.000000e+00\n",
              "201    0.000000e+00\n",
              "Name: pred, Length: 202, dtype: float64"
            ]
          },
          "metadata": {
            "tags": []
          },
          "execution_count": 71
        }
      ]
    },
    {
      "cell_type": "code",
      "metadata": {
        "id": "oJvqRpQzmhW9"
      },
      "source": [
        "#Json accepts only list values\r\n",
        "predictions=predictions.tolist()"
      ],
      "execution_count": 72,
      "outputs": []
    },
    {
      "cell_type": "code",
      "metadata": {
        "colab": {
          "base_uri": "https://localhost:8080/"
        },
        "id": "ZBwStbJ7m0zk",
        "outputId": "50f90d1e-458a-4cb8-aaca-563b3a233b3a"
      },
      "source": [
        "result_rmse = verify_predictions(predictions)\r\n",
        "print(result_rmse)"
      ],
      "execution_count": 73,
      "outputs": [
        {
          "output_type": "stream",
          "text": [
            "{\"result\":0.6390354736711078,\"type\":\"rmse\"}\n",
            "\n"
          ],
          "name": "stdout"
        }
      ]
    },
    {
      "cell_type": "markdown",
      "metadata": {
        "id": "Oa4IefNQDXhS"
      },
      "source": [
        "##### Analysis"
      ]
    },
    {
      "cell_type": "code",
      "metadata": {
        "id": "C9guI0hjHwW0"
      },
      "source": [
        ""
      ],
      "execution_count": 78,
      "outputs": []
    }
  ]
}