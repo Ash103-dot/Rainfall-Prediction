{
  "nbformat": 4,
  "nbformat_minor": 0,
  "metadata": {
    "colab": {
      "name": "Model_approach.ipynb",
      "provenance": []
    },
    "kernelspec": {
      "name": "python3",
      "display_name": "Python 3"
    }
  },
  "cells": [
    {
      "cell_type": "code",
      "metadata": {
        "id": "ykfWJtZ0dR2m"
      },
      "source": [
        "from sklearn.metrics import mean_squared_error\r\n"
      ],
      "execution_count": 23,
      "outputs": []
    },
    {
      "cell_type": "code",
      "metadata": {
        "id": "fjo8rNgwd1mI"
      },
      "source": [
        "import requests\r\n",
        "import json\r\n",
        "\r\n",
        "def verify_predictions(y_pred):\r\n",
        "    \r\n",
        "    url = \"https://q7wmplg8u6.execute-api.ap-northeast-1.amazonaws.com/dev\"\r\n",
        "    \r\n",
        "    payload = {\r\n",
        "        \"submission\": y_pred\r\n",
        "    }\r\n",
        "    response = requests.request(\"POST\", url,data=json.dumps(payload),headers = {'content-type': 'application/json'})\r\n",
        "    \r\n",
        "    return response.text"
      ],
      "execution_count": 24,
      "outputs": []
    },
    {
      "cell_type": "code",
      "metadata": {
        "id": "tA7r8TxNeh4B"
      },
      "source": [
        "# imports\r\n",
        "import numpy as np\r\n",
        "import pandas as pd"
      ],
      "execution_count": 25,
      "outputs": []
    },
    {
      "cell_type": "code",
      "metadata": {
        "colab": {
          "base_uri": "https://localhost:8080/"
        },
        "id": "zanul870em0W",
        "outputId": "1a3652e1-2acb-434f-855e-4e8a885cacee"
      },
      "source": [
        "from google.colab import drive\r\n",
        "drive.mount('/content/drive')"
      ],
      "execution_count": 26,
      "outputs": [
        {
          "output_type": "stream",
          "text": [
            "Drive already mounted at /content/drive; to attempt to forcibly remount, call drive.mount(\"/content/drive\", force_remount=True).\n"
          ],
          "name": "stdout"
        }
      ]
    },
    {
      "cell_type": "code",
      "metadata": {
        "id": "hmMhrrMjeqGm"
      },
      "source": [
        "# loading the datasets\r\n",
        "df = pd.read_csv('/content/drive/MyDrive/wni/Japan_cities_rainfall.csv')\r\n",
        "df_to_predict = pd.read_csv('/content/drive/MyDrive/wni/rainfall_to_predict.csv')"
      ],
      "execution_count": 27,
      "outputs": []
    },
    {
      "cell_type": "code",
      "metadata": {
        "colab": {
          "base_uri": "https://localhost:8080/",
          "height": 195
        },
        "id": "8yu-3cH8e6XE",
        "outputId": "315f9337-7c72-42f7-a0ee-81a24f0f6334"
      },
      "source": [
        "df.head()"
      ],
      "execution_count": 28,
      "outputs": [
        {
          "output_type": "execute_result",
          "data": {
            "text/html": [
              "<div>\n",
              "<style scoped>\n",
              "    .dataframe tbody tr th:only-of-type {\n",
              "        vertical-align: middle;\n",
              "    }\n",
              "\n",
              "    .dataframe tbody tr th {\n",
              "        vertical-align: top;\n",
              "    }\n",
              "\n",
              "    .dataframe thead th {\n",
              "        text-align: right;\n",
              "    }\n",
              "</style>\n",
              "<table border=\"1\" class=\"dataframe\">\n",
              "  <thead>\n",
              "    <tr style=\"text-align: right;\">\n",
              "      <th></th>\n",
              "      <th>date_time</th>\n",
              "      <th>place</th>\n",
              "      <th>longitude</th>\n",
              "      <th>latitude</th>\n",
              "      <th>rainfall</th>\n",
              "    </tr>\n",
              "  </thead>\n",
              "  <tbody>\n",
              "    <tr>\n",
              "      <th>0</th>\n",
              "      <td>20200918_080000</td>\n",
              "      <td>Naha</td>\n",
              "      <td>127.686667</td>\n",
              "      <td>26.206667</td>\n",
              "      <td>0.0</td>\n",
              "    </tr>\n",
              "    <tr>\n",
              "      <th>1</th>\n",
              "      <td>20200918_080000</td>\n",
              "      <td>Fukuoka</td>\n",
              "      <td>130.375000</td>\n",
              "      <td>33.581667</td>\n",
              "      <td>0.0</td>\n",
              "    </tr>\n",
              "    <tr>\n",
              "      <th>2</th>\n",
              "      <td>20200918_080000</td>\n",
              "      <td>Sendai</td>\n",
              "      <td>140.896667</td>\n",
              "      <td>38.261667</td>\n",
              "      <td>0.0</td>\n",
              "    </tr>\n",
              "    <tr>\n",
              "      <th>3</th>\n",
              "      <td>20200918_080000</td>\n",
              "      <td>Osaka</td>\n",
              "      <td>135.518333</td>\n",
              "      <td>34.681667</td>\n",
              "      <td>0.0</td>\n",
              "    </tr>\n",
              "    <tr>\n",
              "      <th>4</th>\n",
              "      <td>20200918_080000</td>\n",
              "      <td>Nigata</td>\n",
              "      <td>139.018333</td>\n",
              "      <td>37.893333</td>\n",
              "      <td>3.0</td>\n",
              "    </tr>\n",
              "  </tbody>\n",
              "</table>\n",
              "</div>"
            ],
            "text/plain": [
              "         date_time     place   longitude   latitude  rainfall\n",
              "0  20200918_080000      Naha  127.686667  26.206667       0.0\n",
              "1  20200918_080000   Fukuoka  130.375000  33.581667       0.0\n",
              "2  20200918_080000    Sendai  140.896667  38.261667       0.0\n",
              "3  20200918_080000     Osaka  135.518333  34.681667       0.0\n",
              "4  20200918_080000    Nigata  139.018333  37.893333       3.0"
            ]
          },
          "metadata": {
            "tags": []
          },
          "execution_count": 28
        }
      ]
    },
    {
      "cell_type": "code",
      "metadata": {
        "colab": {
          "base_uri": "https://localhost:8080/",
          "height": 195
        },
        "id": "gZZWePZqe9yD",
        "outputId": "3060966b-fca1-492a-8ffa-1c6bee98cb36"
      },
      "source": [
        "df_to_predict.head()"
      ],
      "execution_count": 29,
      "outputs": [
        {
          "output_type": "execute_result",
          "data": {
            "text/html": [
              "<div>\n",
              "<style scoped>\n",
              "    .dataframe tbody tr th:only-of-type {\n",
              "        vertical-align: middle;\n",
              "    }\n",
              "\n",
              "    .dataframe tbody tr th {\n",
              "        vertical-align: top;\n",
              "    }\n",
              "\n",
              "    .dataframe thead th {\n",
              "        text-align: right;\n",
              "    }\n",
              "</style>\n",
              "<table border=\"1\" class=\"dataframe\">\n",
              "  <thead>\n",
              "    <tr style=\"text-align: right;\">\n",
              "      <th></th>\n",
              "      <th>date_time</th>\n",
              "      <th>place</th>\n",
              "      <th>longitude</th>\n",
              "      <th>latitude</th>\n",
              "    </tr>\n",
              "  </thead>\n",
              "  <tbody>\n",
              "    <tr>\n",
              "      <th>0</th>\n",
              "      <td>20200919_013000</td>\n",
              "      <td>Naha</td>\n",
              "      <td>127.686667</td>\n",
              "      <td>26.206667</td>\n",
              "    </tr>\n",
              "    <tr>\n",
              "      <th>1</th>\n",
              "      <td>20200919_223000</td>\n",
              "      <td>Nigata</td>\n",
              "      <td>139.018333</td>\n",
              "      <td>37.893333</td>\n",
              "    </tr>\n",
              "    <tr>\n",
              "      <th>2</th>\n",
              "      <td>20200919_233000</td>\n",
              "      <td>Sendai</td>\n",
              "      <td>140.896667</td>\n",
              "      <td>38.261667</td>\n",
              "    </tr>\n",
              "    <tr>\n",
              "      <th>3</th>\n",
              "      <td>20200920_030000</td>\n",
              "      <td>Fukuoka</td>\n",
              "      <td>130.375000</td>\n",
              "      <td>33.581667</td>\n",
              "    </tr>\n",
              "    <tr>\n",
              "      <th>4</th>\n",
              "      <td>20200920_130000</td>\n",
              "      <td>Naha</td>\n",
              "      <td>127.686667</td>\n",
              "      <td>26.206667</td>\n",
              "    </tr>\n",
              "  </tbody>\n",
              "</table>\n",
              "</div>"
            ],
            "text/plain": [
              "         date_time     place   longitude   latitude\n",
              "0  20200919_013000      Naha  127.686667  26.206667\n",
              "1  20200919_223000    Nigata  139.018333  37.893333\n",
              "2  20200919_233000    Sendai  140.896667  38.261667\n",
              "3  20200920_030000   Fukuoka  130.375000  33.581667\n",
              "4  20200920_130000      Naha  127.686667  26.206667"
            ]
          },
          "metadata": {
            "tags": []
          },
          "execution_count": 29
        }
      ]
    },
    {
      "cell_type": "code",
      "metadata": {
        "id": "kcXSF3_dfDDq"
      },
      "source": [
        "def breakdown_month(a):\r\n",
        "  if(a[4:6]=='9'):\r\n",
        "      return 0\r\n",
        "  elif(a[4:6]=='10'):\r\n",
        "      return 1\r\n",
        "  else:\r\n",
        "      return 2\r\n",
        "def breakdown_date(a):\r\n",
        "  return int(a[6:8])\r\n",
        "def breakdown_time(a):\r\n",
        "  if(int(a[9:11])>=0 and int(a[9:11])<6):\r\n",
        "    return 1\r\n",
        "  elif(int(a[9:11])>=6 and int(a[9:11])<12):\r\n",
        "    return 2\r\n",
        "  elif(int(a[9:11])>=12 and int(a[9:11])<18):\r\n",
        "    return 3\r\n",
        "  elif(int(a[9:11])>=18 and int(a[9:11])<24):\r\n",
        "    return 4\r\n",
        "  "
      ],
      "execution_count": 30,
      "outputs": []
    },
    {
      "cell_type": "code",
      "metadata": {
        "id": "qEX8sGapfJRm"
      },
      "source": [
        "city_mapping = {\" Naha\": 1, \" Fukuoka\": 2, \" Sendai\": 3, \" Osaka\": 4, \" Nigata\": 5, \" Tokyo\": 6}\r\n",
        "datasets=[df,df_to_predict]\r\n",
        "cols=['date','month','time','city','rainfall']\r\n",
        "for data in datasets:\r\n",
        "  data['city']=data['place'].map(city_mapping)\r\n",
        "  data['month']=data['date_time'].apply(breakdown_month)\r\n",
        "  data['date']=data['date_time'].apply(breakdown_date)\r\n",
        "  data['time']=data['date_time'].apply(breakdown_time)\r\n",
        "  data.drop(['place','longitude','latitude','date_time'],axis=1,inplace=True)\r\n",
        "df=df[cols]\r\n",
        "df_to_predict=df_to_predict[cols[:-1]]"
      ],
      "execution_count": 31,
      "outputs": []
    },
    {
      "cell_type": "code",
      "metadata": {
        "colab": {
          "base_uri": "https://localhost:8080/"
        },
        "id": "-YBbxG_ofOa-",
        "outputId": "35b8b904-186b-46e8-a9ac-fccb92b43520"
      },
      "source": [
        "from sklearn.model_selection import train_test_split\r\n",
        "from sklearn.tree import DecisionTreeRegressor\r\n",
        "from sklearn.ensemble import GradientBoostingRegressor  \r\n",
        "Y=df['rainfall']\r\n",
        "X=df.drop('rainfall',axis=1)\r\n",
        "gbr_model=GradientBoostingRegressor()\r\n",
        "gbr_model.fit(X, np.ravel(Y))\r\n",
        "pred=gbr_model.predict(df_to_predict)\r\n",
        "pred=pred.tolist()\r\n",
        "result_rmse = verify_predictions(pred)\r\n",
        "print(result_rmse)\r\n",
        "print(df_to_predict[:10])\r\n",
        "print(pred[:10])"
      ],
      "execution_count": 32,
      "outputs": [
        {
          "output_type": "stream",
          "text": [
            "{\"result\":0.7850236515182961,\"type\":\"rmse\"}\n",
            "\n",
            "   date  month  time  city\n",
            "0    19      2     1     1\n",
            "1    19      2     4     5\n",
            "2    19      2     4     3\n",
            "3    20      2     1     2\n",
            "4    20      2     3     1\n",
            "5    20      2     4     1\n",
            "6    20      2     4     5\n",
            "7    21      2     2     5\n",
            "8    21      2     3     3\n",
            "9    21      2     4     5\n",
            "[0.2282296131461955, 0.10497764087733645, 0.021350371578241763, 0.05753104092730099, 0.13906219945823953, 0.1336191478211305, 0.10497764087733645, 0.04139197265440487, 0.06135497316948136, 0.0631900478272158]\n"
          ],
          "name": "stdout"
        }
      ]
    }
  ]
}