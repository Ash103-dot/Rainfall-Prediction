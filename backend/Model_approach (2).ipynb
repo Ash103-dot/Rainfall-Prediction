{
  "nbformat": 4,
  "nbformat_minor": 0,
  "metadata": {
    "colab": {
      "name": "Model_approach.ipynb",
      "provenance": [],
      "collapsed_sections": []
    },
    "kernelspec": {
      "name": "python3",
      "display_name": "Python 3"
    }
  },
  "cells": [
    {
      "cell_type": "code",
      "metadata": {
        "id": "ykfWJtZ0dR2m"
      },
      "source": [
        "from sklearn.metrics import mean_squared_error\r\n"
      ],
      "execution_count": 1,
      "outputs": []
    },
    {
      "cell_type": "code",
      "metadata": {
        "id": "fjo8rNgwd1mI"
      },
      "source": [
        "import requests\r\n",
        "import json\r\n",
        "\r\n",
        "def verify_predictions(y_pred):\r\n",
        "    \r\n",
        "    url = \"https://q7wmplg8u6.execute-api.ap-northeast-1.amazonaws.com/dev\"\r\n",
        "    \r\n",
        "    payload = {\r\n",
        "        \"submission\": y_pred\r\n",
        "    }\r\n",
        "    response = requests.request(\"POST\", url,data=json.dumps(payload),headers = {'content-type': 'application/json'})\r\n",
        "    \r\n",
        "    return response.text"
      ],
      "execution_count": 2,
      "outputs": []
    },
    {
      "cell_type": "code",
      "metadata": {
        "id": "tA7r8TxNeh4B"
      },
      "source": [
        "# imports\r\n",
        "import numpy as np\r\n",
        "import pandas as pd"
      ],
      "execution_count": 3,
      "outputs": []
    },
    {
      "cell_type": "code",
      "metadata": {
        "colab": {
          "base_uri": "https://localhost:8080/"
        },
        "id": "zanul870em0W",
        "outputId": "df16580c-68f6-45df-80bc-fd76978ad8ac"
      },
      "source": [
        "from google.colab import drive\r\n",
        "drive.mount('/content/drive')"
      ],
      "execution_count": 4,
      "outputs": [
        {
          "output_type": "stream",
          "text": [
            "Mounted at /content/drive\n"
          ],
          "name": "stdout"
        }
      ]
    },
    {
      "cell_type": "code",
      "metadata": {
        "id": "hmMhrrMjeqGm"
      },
      "source": [
        "# loading the datasets\r\n",
        "df = pd.read_csv('/content/drive/MyDrive/wni/Japan_cities_rainfall.csv')\r\n",
        "df_to_predict = pd.read_csv('/content/drive/MyDrive/wni/rainfall_to_predict.csv')"
      ],
      "execution_count": 5,
      "outputs": []
    },
    {
      "cell_type": "code",
      "metadata": {
        "colab": {
          "base_uri": "https://localhost:8080/",
          "height": 195
        },
        "id": "8yu-3cH8e6XE",
        "outputId": "039f8c8f-cd0d-49f8-f04f-16d55a29f969"
      },
      "source": [
        "df.head()"
      ],
      "execution_count": 6,
      "outputs": [
        {
          "output_type": "execute_result",
          "data": {
            "text/html": [
              "<div>\n",
              "<style scoped>\n",
              "    .dataframe tbody tr th:only-of-type {\n",
              "        vertical-align: middle;\n",
              "    }\n",
              "\n",
              "    .dataframe tbody tr th {\n",
              "        vertical-align: top;\n",
              "    }\n",
              "\n",
              "    .dataframe thead th {\n",
              "        text-align: right;\n",
              "    }\n",
              "</style>\n",
              "<table border=\"1\" class=\"dataframe\">\n",
              "  <thead>\n",
              "    <tr style=\"text-align: right;\">\n",
              "      <th></th>\n",
              "      <th>date_time</th>\n",
              "      <th>place</th>\n",
              "      <th>longitude</th>\n",
              "      <th>latitude</th>\n",
              "      <th>rainfall</th>\n",
              "    </tr>\n",
              "  </thead>\n",
              "  <tbody>\n",
              "    <tr>\n",
              "      <th>0</th>\n",
              "      <td>20200918_080000</td>\n",
              "      <td>Naha</td>\n",
              "      <td>127.686667</td>\n",
              "      <td>26.206667</td>\n",
              "      <td>0.0</td>\n",
              "    </tr>\n",
              "    <tr>\n",
              "      <th>1</th>\n",
              "      <td>20200918_080000</td>\n",
              "      <td>Fukuoka</td>\n",
              "      <td>130.375000</td>\n",
              "      <td>33.581667</td>\n",
              "      <td>0.0</td>\n",
              "    </tr>\n",
              "    <tr>\n",
              "      <th>2</th>\n",
              "      <td>20200918_080000</td>\n",
              "      <td>Sendai</td>\n",
              "      <td>140.896667</td>\n",
              "      <td>38.261667</td>\n",
              "      <td>0.0</td>\n",
              "    </tr>\n",
              "    <tr>\n",
              "      <th>3</th>\n",
              "      <td>20200918_080000</td>\n",
              "      <td>Osaka</td>\n",
              "      <td>135.518333</td>\n",
              "      <td>34.681667</td>\n",
              "      <td>0.0</td>\n",
              "    </tr>\n",
              "    <tr>\n",
              "      <th>4</th>\n",
              "      <td>20200918_080000</td>\n",
              "      <td>Nigata</td>\n",
              "      <td>139.018333</td>\n",
              "      <td>37.893333</td>\n",
              "      <td>3.0</td>\n",
              "    </tr>\n",
              "  </tbody>\n",
              "</table>\n",
              "</div>"
            ],
            "text/plain": [
              "         date_time     place   longitude   latitude  rainfall\n",
              "0  20200918_080000      Naha  127.686667  26.206667       0.0\n",
              "1  20200918_080000   Fukuoka  130.375000  33.581667       0.0\n",
              "2  20200918_080000    Sendai  140.896667  38.261667       0.0\n",
              "3  20200918_080000     Osaka  135.518333  34.681667       0.0\n",
              "4  20200918_080000    Nigata  139.018333  37.893333       3.0"
            ]
          },
          "metadata": {
            "tags": []
          },
          "execution_count": 6
        }
      ]
    },
    {
      "cell_type": "code",
      "metadata": {
        "id": "kcXSF3_dfDDq"
      },
      "source": [
        "def breakdown_month(a):\r\n",
        "  if(a[4:6]=='9'):\r\n",
        "      return 0\r\n",
        "  elif(a[4:6]=='10'):\r\n",
        "      return 1\r\n",
        "  else:\r\n",
        "      return 2\r\n",
        "def breakdown_date(a):\r\n",
        "  return int(a[6:8])\r\n",
        "def breakdown_time(a):\r\n",
        "  if(int(a[9:11])>=0 and int(a[9:11])<6):\r\n",
        "    return 1\r\n",
        "  elif(int(a[9:11])>=6 and int(a[9:11])<12):\r\n",
        "    return 2\r\n",
        "  elif(int(a[9:11])>=12 and int(a[9:11])<18):\r\n",
        "    return 3\r\n",
        "  elif(int(a[9:11])>=18 and int(a[9:11])<24):\r\n",
        "    return 4\r\n",
        "  "
      ],
      "execution_count": 7,
      "outputs": []
    },
    {
      "cell_type": "code",
      "metadata": {
        "id": "qEX8sGapfJRm"
      },
      "source": [
        "city_mapping = {\" Naha\": 1, \" Fukuoka\": 2, \" Sendai\": 3, \" Osaka\": 4, \" Nigata\": 5, \" Tokyo\": 6}\r\n",
        "datasets=[df,df_to_predict]\r\n",
        "cols=['date','month','time','city','rainfall']\r\n",
        "for data in datasets:\r\n",
        "  data['city']=data['place'].map(city_mapping)\r\n",
        "  data['month']=data['date_time'].apply(breakdown_month)\r\n",
        "  data['date']=data['date_time'].apply(breakdown_date)\r\n",
        "  data['time']=data['date_time'].apply(breakdown_time)\r\n",
        "  data.drop(['place','longitude','latitude','date_time'],axis=1,inplace=True)\r\n",
        "df=df[cols]\r\n",
        "df_to_predict=df_to_predict[cols[:-1]]"
      ],
      "execution_count": 8,
      "outputs": []
    },
    {
      "cell_type": "code",
      "metadata": {
        "colab": {
          "base_uri": "https://localhost:8080/"
        },
        "id": "-YBbxG_ofOa-",
        "outputId": "e205aa68-7370-437e-b1e7-bc8b6683d03e"
      },
      "source": [
        "from sklearn.model_selection import train_test_split\r\n",
        "from sklearn.tree import DecisionTreeRegressor\r\n",
        "from sklearn.ensemble import GradientBoostingRegressor  \r\n",
        "Y=df['rainfall']\r\n",
        "X=df.drop('rainfall',axis=1)\r\n",
        "gbr_model=GradientBoostingRegressor()\r\n",
        "gbr_model.fit(X, np.ravel(Y))\r\n",
        "pred=gbr_model.predict(df_to_predict)\r\n",
        "pred=pred.tolist()\r\n",
        "result_rmse = verify_predictions(pred)\r\n",
        "print(result_rmse)\r\n",
        "print(df_to_predict[:10])\r\n",
        "print(pred[:10])"
      ],
      "execution_count": 9,
      "outputs": [
        {
          "output_type": "stream",
          "text": [
            "{\"result\":0.7850236515182961,\"type\":\"rmse\"}\n",
            "\n",
            "   date  month  time  city\n",
            "0    19      2     1     1\n",
            "1    19      2     4     5\n",
            "2    19      2     4     3\n",
            "3    20      2     1     2\n",
            "4    20      2     3     1\n",
            "5    20      2     4     1\n",
            "6    20      2     4     5\n",
            "7    21      2     2     5\n",
            "8    21      2     3     3\n",
            "9    21      2     4     5\n",
            "[0.22822961314619544, 0.10497764087733663, 0.021350371578241944, 0.05753104092730071, 0.13906219945823928, 0.13361914782113013, 0.10497764087733663, 0.041391972654405154, 0.061354973169480936, 0.06319004782721613]\n"
          ],
          "name": "stdout"
        }
      ]
    },
    {
      "cell_type": "code",
      "metadata": {
        "colab": {
          "base_uri": "https://localhost:8080/"
        },
        "id": "FWtbmB3UlGLm",
        "outputId": "c3f96c96-f264-47bc-ae39-f2f0ea0b46d8"
      },
      "source": [
        "!pip install flask_restful"
      ],
      "execution_count": 27,
      "outputs": [
        {
          "output_type": "stream",
          "text": [
            "Collecting flask_restful\n",
            "  Downloading https://files.pythonhosted.org/packages/e9/83/d0d33c971de2d38e54b0037136c8b8d20b9c83d308bc6c220a25162755fd/Flask_RESTful-0.3.8-py2.py3-none-any.whl\n",
            "Requirement already satisfied: Flask>=0.8 in /usr/local/lib/python3.6/dist-packages (from flask_restful) (1.1.2)\n",
            "Requirement already satisfied: six>=1.3.0 in /usr/local/lib/python3.6/dist-packages (from flask_restful) (1.15.0)\n",
            "Collecting aniso8601>=0.82\n",
            "\u001b[?25l  Downloading https://files.pythonhosted.org/packages/93/4e/760c0aaf32034e2da98e1ac6d83b6ffc6d1301132af54c3950ee07785bfa/aniso8601-8.1.0-py2.py3-none-any.whl (44kB)\n",
            "\r\u001b[K     |███████▍                        | 10kB 20.7MB/s eta 0:00:01\r\u001b[K     |██████████████▉                 | 20kB 7.5MB/s eta 0:00:01\r\u001b[K     |██████████████████████▎         | 30kB 7.2MB/s eta 0:00:01\r\u001b[K     |█████████████████████████████▋  | 40kB 6.7MB/s eta 0:00:01\r\u001b[K     |████████████████████████████████| 51kB 3.9MB/s \n",
            "\u001b[?25hRequirement already satisfied: pytz in /usr/local/lib/python3.6/dist-packages (from flask_restful) (2018.9)\n",
            "Requirement already satisfied: itsdangerous>=0.24 in /usr/local/lib/python3.6/dist-packages (from Flask>=0.8->flask_restful) (1.1.0)\n",
            "Requirement already satisfied: Werkzeug>=0.15 in /usr/local/lib/python3.6/dist-packages (from Flask>=0.8->flask_restful) (1.0.1)\n",
            "Requirement already satisfied: Jinja2>=2.10.1 in /usr/local/lib/python3.6/dist-packages (from Flask>=0.8->flask_restful) (2.11.2)\n",
            "Requirement already satisfied: click>=5.1 in /usr/local/lib/python3.6/dist-packages (from Flask>=0.8->flask_restful) (7.1.2)\n",
            "Requirement already satisfied: MarkupSafe>=0.23 in /usr/local/lib/python3.6/dist-packages (from Jinja2>=2.10.1->Flask>=0.8->flask_restful) (1.1.1)\n",
            "Installing collected packages: aniso8601, flask-restful\n",
            "Successfully installed aniso8601-8.1.0 flask-restful-0.3.8\n"
          ],
          "name": "stdout"
        }
      ]
    },
    {
      "cell_type": "code",
      "metadata": {
        "id": "pDyCpwixdTlI"
      },
      "source": [
        "from flask import Flask\r\n",
        "from flask_restful import reqparse, abort, Api, Resource\r\n",
        "import pickle as p"
      ],
      "execution_count": 28,
      "outputs": []
    },
    {
      "cell_type": "code",
      "metadata": {
        "id": "IRQkfxFxkkEQ"
      },
      "source": [
        "app = Flask(__name__)\r\n",
        "api = Api(app)"
      ],
      "execution_count": 29,
      "outputs": []
    },
    {
      "cell_type": "code",
      "metadata": {
        "id": "5Nz2QQp0lVV5"
      },
      "source": [
        "model=gbr_model"
      ],
      "execution_count": 30,
      "outputs": []
    },
    {
      "cell_type": "code",
      "metadata": {
        "id": "ZAfNyrZ-lftP"
      },
      "source": [
        "# load trained classifier\r\n",
        "clf_path = 'gbr_model.pkl'\r\n",
        "with open(clf_path, 'rb') as f:\r\n",
        "    model.clf = pickle.load(f)"
      ],
      "execution_count": 36,
      "outputs": []
    },
    {
      "cell_type": "code",
      "metadata": {
        "id": "S7xamYtyr4Kq"
      },
      "source": [
        "#creating endpoints\r\n",
        "api.add_resource(PredictRainfall, '/')\r\n",
        "api.add_resource(PredictRainfall, '/city')"
      ],
      "execution_count": null,
      "outputs": []
    },
    {
      "cell_type": "code",
      "metadata": {
        "colab": {
          "base_uri": "https://localhost:8080/"
        },
        "id": "8jGMGDiKlwlt",
        "outputId": "9e469f19-24da-4c74-cd4e-193057f0702f"
      },
      "source": [
        "# argument parsing\r\n",
        "parser = reqparse.RequestParser()\r\n",
        "parser.add_argument('query')"
      ],
      "execution_count": 37,
      "outputs": [
        {
          "output_type": "execute_result",
          "data": {
            "text/plain": [
              "<flask_restful.reqparse.RequestParser at 0x7f6f95d2e9e8>"
            ]
          },
          "metadata": {
            "tags": []
          },
          "execution_count": 37
        }
      ]
    },
    {
      "cell_type": "code",
      "metadata": {
        "id": "wQpLxe-qmsnk"
      },
      "source": [
        "class PredictSentiment(Resource):\r\n",
        "    def get(self):\r\n",
        "        # use parser and find the user's query\r\n",
        "        args = parser.parse_args()\r\n",
        "        user_query = args['query']\r\n",
        "        # vectorize the user's query and make a prediction\r\n",
        "        uq_vectorized = model.vectorizer_transform(\r\n",
        "            np.array([user_query]))\r\n",
        "        prediction = model.predict(uq_vectorized)\r\n",
        "        pred_proba = model.predict_proba(uq_vectorized)\r\n",
        "        # Output 'Negative' or 'Positive' along with the score\r\n",
        "        \r\n",
        "            \r\n",
        "        # round the predict proba value and set to new variable\r\n",
        "        confidence = round(pred_proba[0], 3)\r\n",
        "        # create JSON object\r\n",
        "        output =  {'Place': 'naha','Date':'2020-11-19','Time':'060000','prediction':0.22822961314619558}\r\n",
        "        \r\n",
        "        return output"
      ],
      "execution_count": 46,
      "outputs": []
    },
    {
      "cell_type": "code",
      "metadata": {
        "colab": {
          "base_uri": "https://localhost:8080/",
          "height": 421
        },
        "id": "KMqNYo6Cm5X6",
        "outputId": "de9c694d-e7c1-4f55-f919-6173a1a2b74c"
      },
      "source": [
        "if __name__ == '__main__':\r\n",
        "    app.run(debug=True)\r\n"
      ],
      "execution_count": 43,
      "outputs": [
        {
          "output_type": "stream",
          "text": [
            " * Serving Flask app \"__main__\" (lazy loading)\n",
            " * Environment: production\n",
            "\u001b[31m   WARNING: This is a development server. Do not use it in a production deployment.\u001b[0m\n",
            "\u001b[2m   Use a production WSGI server instead.\u001b[0m\n",
            " * Debug mode: on\n"
          ],
          "name": "stdout"
        },
        {
          "output_type": "error",
          "ename": "OSError",
          "evalue": "ignored",
          "traceback": [
            "\u001b[0;31m---------------------------------------------------------------------------\u001b[0m",
            "\u001b[0;31mOSError\u001b[0m                                   Traceback (most recent call last)",
            "\u001b[0;32m<ipython-input-43-7856dce4d34b>\u001b[0m in \u001b[0;36m<module>\u001b[0;34m()\u001b[0m\n\u001b[1;32m      1\u001b[0m \u001b[0;32mif\u001b[0m \u001b[0m__name__\u001b[0m \u001b[0;34m==\u001b[0m \u001b[0;34m'__main__'\u001b[0m\u001b[0;34m:\u001b[0m\u001b[0;34m\u001b[0m\u001b[0;34m\u001b[0m\u001b[0m\n\u001b[0;32m----> 2\u001b[0;31m     \u001b[0mapp\u001b[0m\u001b[0;34m.\u001b[0m\u001b[0mrun\u001b[0m\u001b[0;34m(\u001b[0m\u001b[0mdebug\u001b[0m\u001b[0;34m=\u001b[0m\u001b[0;32mTrue\u001b[0m\u001b[0;34m)\u001b[0m\u001b[0;34m\u001b[0m\u001b[0;34m\u001b[0m\u001b[0m\n\u001b[0m",
            "\u001b[0;32m/usr/local/lib/python3.6/dist-packages/flask/app.py\u001b[0m in \u001b[0;36mrun\u001b[0;34m(self, host, port, debug, load_dotenv, **options)\u001b[0m\n\u001b[1;32m    988\u001b[0m \u001b[0;34m\u001b[0m\u001b[0m\n\u001b[1;32m    989\u001b[0m         \u001b[0;32mtry\u001b[0m\u001b[0;34m:\u001b[0m\u001b[0;34m\u001b[0m\u001b[0;34m\u001b[0m\u001b[0m\n\u001b[0;32m--> 990\u001b[0;31m             \u001b[0mrun_simple\u001b[0m\u001b[0;34m(\u001b[0m\u001b[0mhost\u001b[0m\u001b[0;34m,\u001b[0m \u001b[0mport\u001b[0m\u001b[0;34m,\u001b[0m \u001b[0mself\u001b[0m\u001b[0;34m,\u001b[0m \u001b[0;34m**\u001b[0m\u001b[0moptions\u001b[0m\u001b[0;34m)\u001b[0m\u001b[0;34m\u001b[0m\u001b[0;34m\u001b[0m\u001b[0m\n\u001b[0m\u001b[1;32m    991\u001b[0m         \u001b[0;32mfinally\u001b[0m\u001b[0;34m:\u001b[0m\u001b[0;34m\u001b[0m\u001b[0;34m\u001b[0m\u001b[0m\n\u001b[1;32m    992\u001b[0m             \u001b[0;31m# reset the first request information if the development server\u001b[0m\u001b[0;34m\u001b[0m\u001b[0;34m\u001b[0m\u001b[0;34m\u001b[0m\u001b[0m\n",
            "\u001b[0;32m/usr/local/lib/python3.6/dist-packages/werkzeug/serving.py\u001b[0m in \u001b[0;36mrun_simple\u001b[0;34m(hostname, port, application, use_reloader, use_debugger, use_evalex, extra_files, reloader_interval, reloader_type, threaded, processes, request_handler, static_files, passthrough_errors, ssl_context)\u001b[0m\n\u001b[1;32m   1028\u001b[0m             \u001b[0ms\u001b[0m \u001b[0;34m=\u001b[0m \u001b[0msocket\u001b[0m\u001b[0;34m.\u001b[0m\u001b[0msocket\u001b[0m\u001b[0;34m(\u001b[0m\u001b[0maddress_family\u001b[0m\u001b[0;34m,\u001b[0m \u001b[0msocket\u001b[0m\u001b[0;34m.\u001b[0m\u001b[0mSOCK_STREAM\u001b[0m\u001b[0;34m)\u001b[0m\u001b[0;34m\u001b[0m\u001b[0;34m\u001b[0m\u001b[0m\n\u001b[1;32m   1029\u001b[0m             \u001b[0ms\u001b[0m\u001b[0;34m.\u001b[0m\u001b[0msetsockopt\u001b[0m\u001b[0;34m(\u001b[0m\u001b[0msocket\u001b[0m\u001b[0;34m.\u001b[0m\u001b[0mSOL_SOCKET\u001b[0m\u001b[0;34m,\u001b[0m \u001b[0msocket\u001b[0m\u001b[0;34m.\u001b[0m\u001b[0mSO_REUSEADDR\u001b[0m\u001b[0;34m,\u001b[0m \u001b[0;36m1\u001b[0m\u001b[0;34m)\u001b[0m\u001b[0;34m\u001b[0m\u001b[0;34m\u001b[0m\u001b[0m\n\u001b[0;32m-> 1030\u001b[0;31m             \u001b[0ms\u001b[0m\u001b[0;34m.\u001b[0m\u001b[0mbind\u001b[0m\u001b[0;34m(\u001b[0m\u001b[0mserver_address\u001b[0m\u001b[0;34m)\u001b[0m\u001b[0;34m\u001b[0m\u001b[0;34m\u001b[0m\u001b[0m\n\u001b[0m\u001b[1;32m   1031\u001b[0m             \u001b[0;32mif\u001b[0m \u001b[0mhasattr\u001b[0m\u001b[0;34m(\u001b[0m\u001b[0ms\u001b[0m\u001b[0;34m,\u001b[0m \u001b[0;34m\"set_inheritable\"\u001b[0m\u001b[0;34m)\u001b[0m\u001b[0;34m:\u001b[0m\u001b[0;34m\u001b[0m\u001b[0;34m\u001b[0m\u001b[0m\n\u001b[1;32m   1032\u001b[0m                 \u001b[0ms\u001b[0m\u001b[0;34m.\u001b[0m\u001b[0mset_inheritable\u001b[0m\u001b[0;34m(\u001b[0m\u001b[0;32mTrue\u001b[0m\u001b[0;34m)\u001b[0m\u001b[0;34m\u001b[0m\u001b[0;34m\u001b[0m\u001b[0m\n",
            "\u001b[0;31mOSError\u001b[0m: [Errno 98] Address already in use"
          ]
        }
      ]
    },
    {
      "cell_type": "code",
      "metadata": {
        "id": "0A55PeGjnRGN"
      },
      "source": [
        "url = 'http://127.0.0.1:5000/'\r\n",
        "params ={'query1': 'City',\r\n",
        "         'query2':'Date',\r\n",
        "         'query3':'Time'}\r\n",
        "response = requests.get(url, params)\r\n",
        "response.json()\r\n",
        "Output: {'Place': 'naha','Date':'2020-11-19','Time':'060000','prediction':0.22822961314619558}"
      ],
      "execution_count": null,
      "outputs": []
    },
    {
      "cell_type": "code",
      "metadata": {
        "id": "uHbdfhIFnzkA"
      },
      "source": [
        "$ curl --data '{\"City\":\"naha\",\"Date\":\"2020-11-19\",\"Time\":\"060000\"}' GET http://127.0.0.1:5000/ \r\n",
        "{\r\n",
        "    'Place': 'naha','Date':'2020-11-19','Time':'060000\r\n",
        "    \"prediction\": 0.22822961314619558,\r\n",
        "    \r\n",
        "}"
      ],
      "execution_count": null,
      "outputs": []
    }
  ]
}